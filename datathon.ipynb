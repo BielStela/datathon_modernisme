{
 "cells": [
  {
   "cell_type": "markdown",
   "metadata": {},
   "source": [
    "# Modernisme: Accés Obert. Hack the Data!"
   ]
  },
  {
   "cell_type": "markdown",
   "metadata": {},
   "source": [
    "Dades scrapejades per professors de la facultat de història (UB raval). \n",
    "\n",
    "[GracmoDocs](http://www.ub.edu/gracmon/?page_id=9)"
   ]
  },
  {
   "cell_type": "code",
   "execution_count": 1,
   "metadata": {
    "collapsed": true
   },
   "outputs": [],
   "source": [
    "import pandas as pd\n",
    "import numpy as np\n",
    "import matplotlib.pyplot as plt\n",
    "import seaborn as sns\n",
    "%matplotlib inline"
   ]
  },
  {
   "cell_type": "code",
   "execution_count": 25,
   "metadata": {
    "collapsed": false
   },
   "outputs": [],
   "source": [
    "pintura_df = pd.read_csv('pintura.csv', sep=';', encoding='latin1')"
   ]
  },
  {
   "cell_type": "markdown",
   "metadata": {},
   "source": [
    "    # recodificar dades \n",
    "    \n",
    "    import codecs\n",
    "    import csv\n",
    "    \n",
    "    f = open('dades/pintura.csv', 'rb')\n",
    "    \n",
    "    def reencode(f):\n",
    "        for line in f:\n",
    "            yield line.decode('windows-1250').encode('utf-8')\n",
    "    \n",
    "            \n",
    "    for i in reencode(f):\n",
    "        print i"
   ]
  },
  {
   "cell_type": "code",
   "execution_count": 26,
   "metadata": {
    "collapsed": false
   },
   "outputs": [
    {
     "data": {
      "text/html": [
       "<div>\n",
       "<table border=\"1\" class=\"dataframe\">\n",
       "  <thead>\n",
       "    <tr style=\"text-align: right;\">\n",
       "      <th></th>\n",
       "      <th>Nid</th>\n",
       "      <th>Títol</th>\n",
       "      <th>Tipus</th>\n",
       "      <th>Autor</th>\n",
       "      <th>Num. Inventari</th>\n",
       "      <th>Alçada</th>\n",
       "      <th>Amplada</th>\n",
       "      <th>Col·lecció</th>\n",
       "      <th>Inici</th>\n",
       "      <th>Imatge</th>\n",
       "      <th>...</th>\n",
       "      <th>Carrer</th>\n",
       "      <th>Codi catrleg</th>\n",
       "      <th>Coordenades</th>\n",
       "      <th>Diócesis</th>\n",
       "      <th>Estatus</th>\n",
       "      <th>Gcnere</th>\n",
       "      <th>Material utilitzat</th>\n",
       "      <th>Part de</th>\n",
       "      <th>Població</th>\n",
       "      <th>Wikilink</th>\n",
       "    </tr>\n",
       "  </thead>\n",
       "  <tbody>\n",
       "    <tr>\n",
       "      <th>0</th>\n",
       "      <td>1792</td>\n",
       "      <td>Bust de nena</td>\n",
       "      <td>Pintura</td>\n",
       "      <td>Joan Brull i Vinyoles</td>\n",
       "      <td>1686</td>\n",
       "      <td>412</td>\n",
       "      <td>318</td>\n",
       "      <td>Biblioteca Museu Víctor Balaguer</td>\n",
       "      <td>1912-01-01T00:00:00Z</td>\n",
       "      <td>http://commons.wikimedia.org/wiki/Special:File...</td>\n",
       "      <td>...</td>\n",
       "      <td>NaN</td>\n",
       "      <td>NaN</td>\n",
       "      <td>1.729429999 41.6221353</td>\n",
       "      <td>NaN</td>\n",
       "      <td>NaN</td>\n",
       "      <td>retrat</td>\n",
       "      <td>NaN</td>\n",
       "      <td>NaN</td>\n",
       "      <td>NaN</td>\n",
       "      <td>http://www.wikidata.org/entity/Q19162526</td>\n",
       "    </tr>\n",
       "    <tr>\n",
       "      <th>1</th>\n",
       "      <td>2248</td>\n",
       "      <td>La Vídua</td>\n",
       "      <td>Pintura</td>\n",
       "      <td>Ramon Casas i Carbó</td>\n",
       "      <td>2083</td>\n",
       "      <td>NaN</td>\n",
       "      <td>NaN</td>\n",
       "      <td>Biblioteca Museu Víctor Balaguer</td>\n",
       "      <td>1890</td>\n",
       "      <td>https://upload.wikimedia.org/wikipedia/commons...</td>\n",
       "      <td>...</td>\n",
       "      <td>NaN</td>\n",
       "      <td>NaN</td>\n",
       "      <td>1.729429999 41.6221353</td>\n",
       "      <td>NaN</td>\n",
       "      <td>NaN</td>\n",
       "      <td>NaN</td>\n",
       "      <td>NaN</td>\n",
       "      <td>NaN</td>\n",
       "      <td>NaN</td>\n",
       "      <td>https://www.wikidata.org/wiki/Q18719543</td>\n",
       "    </tr>\n",
       "    <tr>\n",
       "      <th>2</th>\n",
       "      <td>2251</td>\n",
       "      <td>Montmartre (Ramon Casas)</td>\n",
       "      <td>Pintura</td>\n",
       "      <td>Ramon Casas i Carbó</td>\n",
       "      <td>1651</td>\n",
       "      <td>NaN</td>\n",
       "      <td>NaN</td>\n",
       "      <td>Biblioteca Museu Víctor Balaguer</td>\n",
       "      <td>1899</td>\n",
       "      <td>https://upload.wikimedia.org/wikipedia/commons...</td>\n",
       "      <td>...</td>\n",
       "      <td>NaN</td>\n",
       "      <td>NaN</td>\n",
       "      <td>1.729429999 41.6221353</td>\n",
       "      <td>NaN</td>\n",
       "      <td>NaN</td>\n",
       "      <td>paisatge</td>\n",
       "      <td>NaN</td>\n",
       "      <td>NaN</td>\n",
       "      <td>NaN</td>\n",
       "      <td>https://www.wikidata.org/wiki/Q11937478</td>\n",
       "    </tr>\n",
       "    <tr>\n",
       "      <th>3</th>\n",
       "      <td>1804</td>\n",
       "      <td>Cap de nena</td>\n",
       "      <td>Pintura</td>\n",
       "      <td>Laurer Barrau i Bunol</td>\n",
       "      <td>126</td>\n",
       "      <td>40</td>\n",
       "      <td>30</td>\n",
       "      <td>Casa Masó</td>\n",
       "      <td>1900-01-01T00:00:00Z</td>\n",
       "      <td>http://commons.wikimedia.org/wiki/Special:File...</td>\n",
       "      <td>...</td>\n",
       "      <td>NaN</td>\n",
       "      <td>NaN</td>\n",
       "      <td>2.824789699 41.9860456</td>\n",
       "      <td>NaN</td>\n",
       "      <td>NaN</td>\n",
       "      <td>retrat</td>\n",
       "      <td>NaN</td>\n",
       "      <td>NaN</td>\n",
       "      <td>NaN</td>\n",
       "      <td>http://www.wikidata.org/entity/Q23015840</td>\n",
       "    </tr>\n",
       "    <tr>\n",
       "      <th>4</th>\n",
       "      <td>1820</td>\n",
       "      <td>Carrer</td>\n",
       "      <td>Pintura</td>\n",
       "      <td>annnim</td>\n",
       "      <td>48</td>\n",
       "      <td>30</td>\n",
       "      <td>22</td>\n",
       "      <td>Casa Masó</td>\n",
       "      <td>1870-01-01T00:00:00Z</td>\n",
       "      <td>http://commons.wikimedia.org/wiki/Special:File...</td>\n",
       "      <td>...</td>\n",
       "      <td>NaN</td>\n",
       "      <td>NaN</td>\n",
       "      <td>2.824789699 41.9860456</td>\n",
       "      <td>NaN</td>\n",
       "      <td>NaN</td>\n",
       "      <td>paisatge</td>\n",
       "      <td>NaN</td>\n",
       "      <td>NaN</td>\n",
       "      <td>NaN</td>\n",
       "      <td>http://www.wikidata.org/entity/Q23015831</td>\n",
       "    </tr>\n",
       "  </tbody>\n",
       "</table>\n",
       "<p>5 rows × 23 columns</p>\n",
       "</div>"
      ],
      "text/plain": [
       "    Nid                     Títol    Tipus                  Autor  \\\n",
       "0  1792              Bust de nena  Pintura  Joan Brull i Vinyoles   \n",
       "1  2248                  La Vídua  Pintura    Ramon Casas i Carbó   \n",
       "2  2251  Montmartre (Ramon Casas)  Pintura    Ramon Casas i Carbó   \n",
       "3  1804               Cap de nena  Pintura  Laurer Barrau i Bunol   \n",
       "4  1820                    Carrer  Pintura                 annnim   \n",
       "\n",
       "  Num. Inventari Alçada Amplada                        Col·lecció  \\\n",
       "0           1686    412     318  Biblioteca Museu Víctor Balaguer   \n",
       "1           2083    NaN     NaN  Biblioteca Museu Víctor Balaguer   \n",
       "2           1651    NaN     NaN  Biblioteca Museu Víctor Balaguer   \n",
       "3            126     40      30                         Casa Masó   \n",
       "4             48     30      22                         Casa Masó   \n",
       "\n",
       "                  Inici                                             Imatge  \\\n",
       "0  1912-01-01T00:00:00Z  http://commons.wikimedia.org/wiki/Special:File...   \n",
       "1                  1890  https://upload.wikimedia.org/wikipedia/commons...   \n",
       "2                  1899  https://upload.wikimedia.org/wikipedia/commons...   \n",
       "3  1900-01-01T00:00:00Z  http://commons.wikimedia.org/wiki/Special:File...   \n",
       "4  1870-01-01T00:00:00Z  http://commons.wikimedia.org/wiki/Special:File...   \n",
       "\n",
       "                     ...                    Carrer  Codi catrleg  \\\n",
       "0                    ...                       NaN           NaN   \n",
       "1                    ...                       NaN           NaN   \n",
       "2                    ...                       NaN           NaN   \n",
       "3                    ...                       NaN           NaN   \n",
       "4                    ...                       NaN           NaN   \n",
       "\n",
       "              Coordenades  Diócesis  Estatus    Gcnere  Material utilitzat  \\\n",
       "0  1.729429999 41.6221353       NaN      NaN    retrat                 NaN   \n",
       "1  1.729429999 41.6221353       NaN      NaN       NaN                 NaN   \n",
       "2  1.729429999 41.6221353       NaN      NaN  paisatge                 NaN   \n",
       "3  2.824789699 41.9860456       NaN      NaN    retrat                 NaN   \n",
       "4  2.824789699 41.9860456       NaN      NaN  paisatge                 NaN   \n",
       "\n",
       "   Part de Població                                  Wikilink  \n",
       "0      NaN      NaN  http://www.wikidata.org/entity/Q19162526  \n",
       "1      NaN      NaN   https://www.wikidata.org/wiki/Q18719543  \n",
       "2      NaN      NaN   https://www.wikidata.org/wiki/Q11937478  \n",
       "3      NaN      NaN  http://www.wikidata.org/entity/Q23015840  \n",
       "4      NaN      NaN  http://www.wikidata.org/entity/Q23015831  \n",
       "\n",
       "[5 rows x 23 columns]"
      ]
     },
     "execution_count": 26,
     "metadata": {},
     "output_type": "execute_result"
    }
   ],
   "source": [
    "pintura_df.head()"
   ]
  },
  {
   "cell_type": "code",
   "execution_count": 9,
   "metadata": {
    "collapsed": false
   },
   "outputs": [],
   "source": [
    "dim_df = pd.DataFrame()"
   ]
  },
  {
   "cell_type": "code",
   "execution_count": 10,
   "metadata": {
    "collapsed": true
   },
   "outputs": [],
   "source": [
    "dim_df[['height', 'width']] =  pintura_df.ix[:,5:7]"
   ]
  },
  {
   "cell_type": "code",
   "execution_count": 11,
   "metadata": {
    "collapsed": false
   },
   "outputs": [],
   "source": [
    "dim_df['any'] = pintura_df.Inici"
   ]
  },
  {
   "cell_type": "code",
   "execution_count": 14,
   "metadata": {
    "collapsed": false
   },
   "outputs": [
    {
     "data": {
      "text/plain": [
       "height    973\n",
       "width     973\n",
       "any        10\n",
       "dtype: int64"
      ]
     },
     "execution_count": 14,
     "metadata": {},
     "output_type": "execute_result"
    }
   ],
   "source": [
    "dim_df.isnull().sum()"
   ]
  },
  {
   "cell_type": "code",
   "execution_count": 15,
   "metadata": {
    "collapsed": false
   },
   "outputs": [
    {
     "data": {
      "text/plain": [
       "1461"
      ]
     },
     "execution_count": 15,
     "metadata": {},
     "output_type": "execute_result"
    }
   ],
   "source": [
    "len(dim_df)"
   ]
  },
  {
   "cell_type": "code",
   "execution_count": 17,
   "metadata": {
    "collapsed": false
   },
   "outputs": [
    {
     "data": {
      "text/plain": [
       "487"
      ]
     },
     "execution_count": 17,
     "metadata": {},
     "output_type": "execute_result"
    }
   ],
   "source": [
    "len(dim_df.dropna())"
   ]
  },
  {
   "cell_type": "code",
   "execution_count": 19,
   "metadata": {
    "collapsed": false
   },
   "outputs": [],
   "source": [
    "dim_df = dim_df.dropna()"
   ]
  },
  {
   "cell_type": "code",
   "execution_count": 27,
   "metadata": {
    "collapsed": false
   },
   "outputs": [
    {
     "name": "stderr",
     "output_type": "stream",
     "text": [
      "C:\\Users\\Biel\\Anaconda2\\lib\\site-packages\\pandas\\core\\generic.py:2701: SettingWithCopyWarning: \n",
      "A value is trying to be set on a copy of a slice from a DataFrame.\n",
      "Try using .loc[row_indexer,col_indexer] = value instead\n",
      "\n",
      "See the caveats in the documentation: http://pandas.pydata.org/pandas-docs/stable/indexing.html#indexing-view-versus-copy\n",
      "  self[name] = value\n"
     ]
    }
   ],
   "source": [
    "dim_df.height = pd.to_numeric(dim_df.height, errors='coerce')\n",
    "dim_df.width  = pd.to_numeric(dim_df.width, errors='coerce')"
   ]
  },
  {
   "cell_type": "code",
   "execution_count": 31,
   "metadata": {
    "collapsed": false
   },
   "outputs": [],
   "source": [
    "dim_df = dim_df.dropna()"
   ]
  },
  {
   "cell_type": "code",
   "execution_count": 41,
   "metadata": {
    "collapsed": false
   },
   "outputs": [
    {
     "name": "stderr",
     "output_type": "stream",
     "text": [
      "C:\\Users\\Biel\\Anaconda2\\lib\\site-packages\\ipykernel\\__main__.py:1: SettingWithCopyWarning: \n",
      "A value is trying to be set on a copy of a slice from a DataFrame.\n",
      "Try using .loc[row_indexer,col_indexer] = value instead\n",
      "\n",
      "See the caveats in the documentation: http://pandas.pydata.org/pandas-docs/stable/indexing.html#indexing-view-versus-copy\n",
      "  if __name__ == '__main__':\n"
     ]
    }
   ],
   "source": [
    "dim_df['ratio'] = dim_df.width.values/dim_df.height.values"
   ]
  },
  {
   "cell_type": "code",
   "execution_count": 45,
   "metadata": {
    "collapsed": false,
    "scrolled": true
   },
   "outputs": [
    {
     "data": {
      "text/plain": [
       "<matplotlib.axes._subplots.AxesSubplot at 0xe474780>"
      ]
     },
     "execution_count": 45,
     "metadata": {},
     "output_type": "execute_result"
    },
    {
     "data": {
      "image/png": "[encoded data removed]",
      "text/plain": [
       "<matplotlib.figure.Figure at 0xe869710>"
      ]
     },
     "metadata": {},
     "output_type": "display_data"
    }
   ],
   "source": [
    "dim_df.ratio.hist(bins=50)"
   ]
  },
  {
   "cell_type": "code",
   "execution_count": 47,
   "metadata": {
    "collapsed": false
   },
   "outputs": [
    {
     "data": {
      "text/plain": [
       "count    481.000000\n",
       "mean       1.780509\n",
       "std        2.847694\n",
       "min        0.058859\n",
       "25%        0.750000\n",
       "50%        1.000000\n",
       "75%        1.466667\n",
       "max       16.904762\n",
       "Name: ratio, dtype: float64"
      ]
     },
     "execution_count": 47,
     "metadata": {},
     "output_type": "execute_result"
    }
   ],
   "source": [
    "dim_df.ratio.describe()"
   ]
  },
  {
   "cell_type": "code",
   "execution_count": null,
   "metadata": {
    "collapsed": true
   },
   "outputs": [],
   "source": []
  }
 ],
 "metadata": {
  "anaconda-cloud": {},
  "kernelspec": {
   "display_name": "Python [conda root]",
   "language": "python",
   "name": "conda-root-py"
  },
  "language_info": {
   "codemirror_mode": {
    "name": "ipython",
    "version": 2
   },
   "file_extension": ".py",
   "mimetype": "text/x-python",
   "name": "python",
   "nbconvert_exporter": "python",
   "pygments_lexer": "ipython2",
   "version": "2.7.12"
  }
 },
 "nbformat": 4,
 "nbformat_minor": 1
}
